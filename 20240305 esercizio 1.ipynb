{
 "cells": [
  {
   "cell_type": "markdown",
   "id": "76f041d1-bc26-4fca-84bc-69a496f2b06c",
   "metadata": {},
   "source": [
    "### ESERCIZIO 1\n",
    "Individuiamo tre task di qualsiasi tipo (fare la spesa, studiare un concetto, riempire il serbatoio dell'auto, acquistare uno snack da un distributore automatico, o qualunque altra cosa); Scriviamo un algoritmo (in forma testuale), cioè i passi necessari, per ognuno dei task selezionati."
   ]
  },
  {
   "cell_type": "markdown",
   "id": "ce1f85e7-8ec9-432f-b697-e83189fb75a5",
   "metadata": {},
   "source": [
    "**FARE LA SPESA**  \n",
    "Fai la lista  \n",
    "Esci di casa  \n",
    "Recati al supermercato  \n",
    "Per ogni elemento della lista:  \n",
    "cercalo tra gli scaffali  \n",
    "riponilo nel carrello  \n",
    "Recati alla cassa  \n",
    "Paga  \n",
    "Torna a casa  \n",
    "Riponi gli elementi nella dispensa  \n",
    "\n",
    "\n",
    "**STUDIARE UN CONCETTO**  \n",
    "Per ogni capitolo:  \n",
    "\tLeggi il capitolo 1  \n",
    "\tRielabora ciò che hai letto  \n",
    "\tProva a spiegarlo a parole tue  \n",
    "\tSe non hai capito,  \n",
    "\t\ttorna al punto iniziale  \n",
    "\tAltrimenti,  \n",
    "\t\tpassa al capitolo successivo  \n",
    "\n",
    "\n",
    "**RIEMPIRE IL SERBATOIO DELL'AUTO**  \n",
    "Inserisci la carta e il relativo codice PIN  \n",
    "Scegli la pompa  \n",
    "Recati alla pompa selezionata  \n",
    "Apri sportello serbatoio  \n",
    "Inserisci la pompa  \n",
    "Finché il serbatoio non è pieno:  \n",
    "\ttieni la pompa nel serbatoio in modalità erogazione  \n",
    "Togli la pompa  \n",
    "Chiudi sportello serbatoio  \n",
    "\n",
    "\n",
    "**ACQUISTARE UNO SNACK DAL DISTRIBUTORE**  \n",
    "Seleziona prodotto  \n",
    "Inserisci denaro  \n",
    "Se il denaro inserito è inferiore al prezzo del prodotto:  \n",
    "\tinserisci altro denaro  \n",
    "Altrimenti:  \n",
    "\tRitira il prodotto  "
   ]
  },
  {
   "cell_type": "markdown",
   "id": "a33770e1-0399-45ab-9e1b-4be57eea0df4",
   "metadata": {},
   "source": [
    "### ESERCIZIO 2"
   ]
  },
  {
   "cell_type": "markdown",
   "id": "5e371a54-2796-4554-ad71-e942b339a966",
   "metadata": {},
   "source": [
    "Abbiamo 25 studenti; memorizzare questo dato in una variabile.  \n",
    "Arrivano altri 3 studenti; memorizzare questo dato in un'altra variabile.  \n",
    "Creare un'altra variabile ancora che conterrà la somma delle prime due, poi stamparla a video."
   ]
  },
  {
   "cell_type": "code",
   "execution_count": 2,
   "id": "ad4c2dfe-7f56-4e35-ad99-9c7d53f77671",
   "metadata": {},
   "outputs": [
    {
     "data": {
      "text/plain": [
       "28"
      ]
     },
     "execution_count": 2,
     "metadata": {},
     "output_type": "execute_result"
    }
   ],
   "source": [
    "numero_studenti = 25\n",
    "numero_nuovi_studenti = 3\n",
    "totale_studenti = numero_studenti + numero_nuovi_studenti\n",
    "totale_studenti"
   ]
  },
  {
   "cell_type": "markdown",
   "id": "9a39719f-8626-4494-ba70-b0fe4fed8e01",
   "metadata": {},
   "source": [
    "### ESERCIZIO 3"
   ]
  },
  {
   "cell_type": "markdown",
   "id": "6235f7d1-2253-4305-bade-20ab1d7d60c4",
   "metadata": {},
   "source": [
    "Creare una variabile che contiene la stringa \"Epicode\", quindi stamparla a video."
   ]
  },
  {
   "cell_type": "code",
   "execution_count": 10,
   "id": "54397449-c911-4498-ab24-31fdbbc630f4",
   "metadata": {},
   "outputs": [
    {
     "data": {
      "text/plain": [
       "'Epicode'"
      ]
     },
     "execution_count": 10,
     "metadata": {},
     "output_type": "execute_result"
    }
   ],
   "source": [
    "variabile = \"Epicode\"\n",
    "variabile"
   ]
  },
  {
   "cell_type": "markdown",
   "id": "ce86eaaf-9d04-4666-82fb-3510deea8020",
   "metadata": {},
   "source": [
    "### ESERCIZIO 4"
   ]
  },
  {
   "cell_type": "markdown",
   "id": "313ad336-fbc5-4f2a-9cca-28d0c142baa8",
   "metadata": {},
   "source": [
    "Abbiamo la variabile: x = 10  \n",
    "Incrementarla di 2 e poi moltiplicarla per 3  \n",
    "Usare due metodi diversi (ad esempio, uno utilizzando gli operatori di assegnazione, e uno senza)"
   ]
  },
  {
   "cell_type": "markdown",
   "id": "c4adc10b-f8d0-44e2-9031-30ff466eeccc",
   "metadata": {},
   "source": [
    "#### metodo 1"
   ]
  },
  {
   "cell_type": "code",
   "execution_count": 8,
   "id": "df36ba75-a6bb-4c14-a06b-981c4bcc9e46",
   "metadata": {},
   "outputs": [
    {
     "data": {
      "text/plain": [
       "36"
      ]
     },
     "execution_count": 8,
     "metadata": {},
     "output_type": "execute_result"
    }
   ],
   "source": [
    "x = 10\n",
    "x = (x + 2) * 3\n",
    "x"
   ]
  },
  {
   "cell_type": "markdown",
   "id": "c23214c6-73bd-45b2-ae31-a7b307413db7",
   "metadata": {},
   "source": [
    "#### metodo 2"
   ]
  },
  {
   "cell_type": "code",
   "execution_count": 9,
   "id": "32742db4-500a-4072-ad4e-94bd1f166f2a",
   "metadata": {},
   "outputs": [
    {
     "data": {
      "text/plain": [
       "36"
      ]
     },
     "execution_count": 9,
     "metadata": {},
     "output_type": "execute_result"
    }
   ],
   "source": [
    "x1 = 10\n",
    "x1 += 2\n",
    "x1 *= 3\n",
    "x1"
   ]
  },
  {
   "cell_type": "markdown",
   "id": "f16ba8f5-a970-4c3c-8812-c5b3abc83f4b",
   "metadata": {},
   "source": [
    "### ESERCIZIO 5"
   ]
  },
  {
   "cell_type": "markdown",
   "id": "c8799905-7d0b-4ade-a715-361d458ae38f",
   "metadata": {},
   "source": [
    "Verificare, per ognuna delle seguenti stringhe, se il numero di caratteri è compreso tra 5 e 8:  \n",
    "• str1 = \"Windows\"  \n",
    "• str2 = \"Excel\"  \n",
    "• str3 = \"Powerpoint\"   \n",
    "• str4 = \"Word\"  "
   ]
  },
  {
   "cell_type": "code",
   "execution_count": 16,
   "id": "5c8b0e07-57e6-4519-a63f-7a8a942eaee8",
   "metadata": {},
   "outputs": [
    {
     "name": "stdout",
     "output_type": "stream",
     "text": [
      "Windows: yes\n",
      "Excel: yes\n",
      "Powerpoint: no\n",
      "Word: no\n"
     ]
    }
   ],
   "source": [
    "stringhe = [\"Windows\", \"Excel\", \"Powerpoint\", \"Word\"]\n",
    "for stringa in stringhe:\n",
    "    if len(stringa) >= 5 and len(stringa) <= 8:\n",
    "        print(f\"{stringa}: yes\")\n",
    "    else: print(f\"{stringa}: no\")"
   ]
  },
  {
   "cell_type": "markdown",
   "id": "d13b973a-4464-4c70-abd5-3b9fcb268c64",
   "metadata": {},
   "source": [
    "### ESERCIZIO 6"
   ]
  },
  {
   "cell_type": "markdown",
   "id": "138d0d20-93df-43d2-b892-6050185b6cc6",
   "metadata": {},
   "source": [
    "Calcolare e stampare a video quanti secondi ci sono in un anno non bisestile."
   ]
  },
  {
   "cell_type": "code",
   "execution_count": 17,
   "id": "2c6aa57e-cbad-45cb-abd4-d72ed1277a4f",
   "metadata": {},
   "outputs": [
    {
     "data": {
      "text/plain": [
       "31536000"
      ]
     },
     "execution_count": 17,
     "metadata": {},
     "output_type": "execute_result"
    }
   ],
   "source": [
    "secondi = 365 * 24 * 60 * 60\n",
    "secondi"
   ]
  },
  {
   "cell_type": "markdown",
   "id": "1070407a-afee-4bbc-a5a0-b596085f1ec0",
   "metadata": {},
   "source": [
    "### ESERCIZIO 7"
   ]
  },
  {
   "cell_type": "markdown",
   "id": "a68891e0-a8fe-492c-873d-077da086ea89",
   "metadata": {},
   "source": [
    "Abbiamo la seguente stringa: my_string = \"I am studying Python\"  \n",
    "• Trasformarla in modo che tutti i caratteri siano maiuscoli (uppercase)  \n",
    "• Trasformarla in modo che tutti i caratteri siano minuscoli (lowercase)  \n",
    "• Sostituire la sottostringa \"Python\" con la stringa \"a lot\"  \n",
    "• Usare il metodo .strip(); cambia qualcosa? Perché?"
   ]
  },
  {
   "cell_type": "code",
   "execution_count": 21,
   "id": "ee637ad2-f015-428b-a8cb-6d0ae698b7d7",
   "metadata": {},
   "outputs": [],
   "source": [
    "my_string = \"I am studying Python\""
   ]
  },
  {
   "cell_type": "code",
   "execution_count": 24,
   "id": "432f9475-c275-4e19-9a11-d1d5cf21373d",
   "metadata": {},
   "outputs": [
    {
     "data": {
      "text/plain": [
       "'I AM STUDYING PYTHON'"
      ]
     },
     "execution_count": 24,
     "metadata": {},
     "output_type": "execute_result"
    }
   ],
   "source": [
    "my_string.upper()"
   ]
  },
  {
   "cell_type": "code",
   "execution_count": 25,
   "id": "cb3d4809-0256-4ca2-97cd-41f519731c56",
   "metadata": {},
   "outputs": [
    {
     "data": {
      "text/plain": [
       "'i am studying python'"
      ]
     },
     "execution_count": 25,
     "metadata": {},
     "output_type": "execute_result"
    }
   ],
   "source": [
    "my_string.lower()"
   ]
  },
  {
   "cell_type": "code",
   "execution_count": 26,
   "id": "760ac2ac-f937-4408-a1f9-6ebc5fb1984f",
   "metadata": {},
   "outputs": [
    {
     "data": {
      "text/plain": [
       "'I am studying a lot'"
      ]
     },
     "execution_count": 26,
     "metadata": {},
     "output_type": "execute_result"
    }
   ],
   "source": [
    "my_string.replace(\"Python\",\"a lot\")"
   ]
  },
  {
   "cell_type": "code",
   "execution_count": 27,
   "id": "600b9c15-d427-49cc-ad9e-3a4cd0d9c2d2",
   "metadata": {},
   "outputs": [
    {
     "data": {
      "text/plain": [
       "['I', 'am', 'studying', 'Python']"
      ]
     },
     "execution_count": 27,
     "metadata": {},
     "output_type": "execute_result"
    }
   ],
   "source": [
    "my_string.split()"
   ]
  }
 ],
 "metadata": {
  "kernelspec": {
   "display_name": "Python 3 (ipykernel)",
   "language": "python",
   "name": "python3"
  },
  "language_info": {
   "codemirror_mode": {
    "name": "ipython",
    "version": 3
   },
   "file_extension": ".py",
   "mimetype": "text/x-python",
   "name": "python",
   "nbconvert_exporter": "python",
   "pygments_lexer": "ipython3",
   "version": "3.11.7"
  }
 },
 "nbformat": 4,
 "nbformat_minor": 5
}
