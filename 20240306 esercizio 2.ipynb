{
 "cells": [
  {
   "cell_type": "code",
   "execution_count": 29,
   "id": "b3401117-593d-432f-99b8-87f1df0f6d09",
   "metadata": {},
   "outputs": [
    {
     "data": {
      "text/plain": [
       "\"oggi è MERCOLEDI'\""
      ]
     },
     "execution_count": 29,
     "metadata": {},
     "output_type": "execute_result"
    }
   ],
   "source": [
    "nome = \"oggi è MERCOLEDI'\"\n",
    "nome"
   ]
  },
  {
   "cell_type": "code",
   "execution_count": 30,
   "id": "51e6b63d-6729-4a2b-bffb-c37eb935a7ac",
   "metadata": {},
   "outputs": [
    {
     "data": {
      "text/plain": [
       "\"Oggi è mercoledi'\""
      ]
     },
     "execution_count": 30,
     "metadata": {},
     "output_type": "execute_result"
    }
   ],
   "source": [
    "nome.capitalize()"
   ]
  },
  {
   "cell_type": "code",
   "execution_count": 31,
   "id": "b9aaf4a0-cbc1-487b-9c8d-0facb7328488",
   "metadata": {},
   "outputs": [
    {
     "data": {
      "text/plain": [
       "0"
      ]
     },
     "execution_count": 31,
     "metadata": {},
     "output_type": "execute_result"
    }
   ],
   "source": [
    "nome.count(\"G\")"
   ]
  },
  {
   "cell_type": "code",
   "execution_count": 32,
   "id": "d9fbb1ec-d6a1-4809-baa5-ab618b11d83f",
   "metadata": {},
   "outputs": [
    {
     "data": {
      "text/plain": [
       "['oggi', 'è', \"MERCOLEDI'\"]"
      ]
     },
     "execution_count": 32,
     "metadata": {},
     "output_type": "execute_result"
    }
   ],
   "source": [
    "nome.split(sep=\" \")"
   ]
  },
  {
   "cell_type": "code",
   "execution_count": 33,
   "id": "cbc4db03-4e16-4ae4-984d-e9eebd1798aa",
   "metadata": {},
   "outputs": [
    {
     "data": {
      "text/plain": [
       "\"oggi è MERCOLEDI'\""
      ]
     },
     "execution_count": 33,
     "metadata": {},
     "output_type": "execute_result"
    }
   ],
   "source": [
    "nome.strip()"
   ]
  },
  {
   "cell_type": "code",
   "execution_count": 42,
   "id": "f6173b7d-caeb-4998-8ecd-057a4bbf2988",
   "metadata": {},
   "outputs": [
    {
     "data": {
      "text/plain": [
       "\">>>>>>>>>>>>>>>>>>>>>>>>>>>>>>>>>>>>>>>>>oggi è MERCOLEDI'>>>>>>>>>>>>>>>>>>>>>>>>>>>>>>>>>>>>>>>>>>\""
      ]
     },
     "execution_count": 42,
     "metadata": {},
     "output_type": "execute_result"
    }
   ],
   "source": [
    "nome.center(100,\">\")"
   ]
  },
  {
   "cell_type": "code",
   "execution_count": 51,
   "id": "826ba6ca-b969-4931-9abd-e86f07aa4d26",
   "metadata": {},
   "outputs": [
    {
     "data": {
      "text/plain": [
       "2"
      ]
     },
     "execution_count": 51,
     "metadata": {},
     "output_type": "execute_result"
    }
   ],
   "source": [
    "nome.find(\"g\", 2)"
   ]
  },
  {
   "cell_type": "code",
   "execution_count": 52,
   "id": "98a2b6e8-cd8c-4250-84e4-b1318d98169a",
   "metadata": {},
   "outputs": [
    {
     "data": {
      "text/plain": [
       "False"
      ]
     },
     "execution_count": 52,
     "metadata": {},
     "output_type": "execute_result"
    }
   ],
   "source": [
    "nome.isupper()"
   ]
  },
  {
   "cell_type": "code",
   "execution_count": 53,
   "id": "16de0fba-1da7-4fe0-a46a-dc819e1e6792",
   "metadata": {},
   "outputs": [
    {
     "data": {
      "text/plain": [
       "\"OGGI È MERCOLEDI'\""
      ]
     },
     "execution_count": 53,
     "metadata": {},
     "output_type": "execute_result"
    }
   ],
   "source": [
    "nome_maiusc = nome.upper()\n",
    "nome_maiusc"
   ]
  },
  {
   "cell_type": "code",
   "execution_count": 54,
   "id": "20a83689-0322-4b9a-b932-46a79fe4d8d0",
   "metadata": {},
   "outputs": [
    {
     "data": {
      "text/plain": [
       "True"
      ]
     },
     "execution_count": 54,
     "metadata": {},
     "output_type": "execute_result"
    }
   ],
   "source": [
    "nome_maiusc.isupper()"
   ]
  },
  {
   "cell_type": "code",
   "execution_count": 55,
   "id": "01942f0c-79b4-4a28-8b62-6b8431caa387",
   "metadata": {},
   "outputs": [],
   "source": [
    "data = \"06/03/2024\""
   ]
  },
  {
   "cell_type": "code",
   "execution_count": 56,
   "id": "aedfc8f2-632f-49c9-87a2-2a665a2716c6",
   "metadata": {},
   "outputs": [
    {
     "data": {
      "text/plain": [
       "\"0oggi è MERCOLEDI'6oggi è MERCOLEDI'/oggi è MERCOLEDI'0oggi è MERCOLEDI'3oggi è MERCOLEDI'/oggi è MERCOLEDI'2oggi è MERCOLEDI'0oggi è MERCOLEDI'2oggi è MERCOLEDI'4\""
      ]
     },
     "execution_count": 56,
     "metadata": {},
     "output_type": "execute_result"
    }
   ],
   "source": [
    "nome.join(data)"
   ]
  },
  {
   "cell_type": "code",
   "execution_count": 57,
   "id": "b098f7ac-dab6-4abc-bda9-230fa9303bee",
   "metadata": {},
   "outputs": [
    {
     "data": {
      "text/plain": [
       "\"OGGI È mercoledi'\""
      ]
     },
     "execution_count": 57,
     "metadata": {},
     "output_type": "execute_result"
    }
   ],
   "source": [
    "nome.swapcase()"
   ]
  },
  {
   "cell_type": "code",
   "execution_count": 58,
   "id": "b8891cdc-ec4d-4589-8624-78d6dd3658fd",
   "metadata": {},
   "outputs": [
    {
     "data": {
      "text/plain": [
       "\"Oggi È Mercoledi'\""
      ]
     },
     "execution_count": 58,
     "metadata": {},
     "output_type": "execute_result"
    }
   ],
   "source": [
    "nome.title()"
   ]
  },
  {
   "cell_type": "code",
   "execution_count": 71,
   "id": "c265994e-9653-4666-8235-4525db6c50ae",
   "metadata": {},
   "outputs": [
    {
     "data": {
      "text/plain": [
       "17"
      ]
     },
     "execution_count": 71,
     "metadata": {},
     "output_type": "execute_result"
    }
   ],
   "source": [
    "len(nome)"
   ]
  },
  {
   "cell_type": "code",
   "execution_count": 72,
   "id": "1f15eedb-7273-4573-ba9e-ca6d040eb7e4",
   "metadata": {},
   "outputs": [
    {
     "data": {
      "text/plain": [
       "2"
      ]
     },
     "execution_count": 72,
     "metadata": {},
     "output_type": "execute_result"
    }
   ],
   "source": [
    "nome.count(\"g\")"
   ]
  },
  {
   "cell_type": "code",
   "execution_count": 75,
   "id": "41a0b245-1f55-4a73-a8ec-8932a0ea58c7",
   "metadata": {},
   "outputs": [
    {
     "name": "stdin",
     "output_type": "stream",
     "text": [
      "Inserisci un numero:  3\n"
     ]
    }
   ],
   "source": [
    "x = int(input(\"Inserisci un numero: \"))\n",
    "\n",
    "y = x ** 2"
   ]
  },
  {
   "cell_type": "code",
   "execution_count": 76,
   "id": "44386eef-d0c8-498e-b42c-4e3d5ae68661",
   "metadata": {},
   "outputs": [
    {
     "data": {
      "text/plain": [
       "9"
      ]
     },
     "execution_count": 76,
     "metadata": {},
     "output_type": "execute_result"
    }
   ],
   "source": [
    "y"
   ]
  },
  {
   "cell_type": "code",
   "execution_count": 81,
   "id": "ceae0f93-7dc4-4ac8-9ecf-14344424bda8",
   "metadata": {},
   "outputs": [
    {
     "name": "stdin",
     "output_type": "stream",
     "text": [
      "inserisci un valore booleano (vero/falso):  ciao\n"
     ]
    }
   ],
   "source": [
    "x = bool(input(\"inserisci un valore booleano (vero/falso): \"))"
   ]
  },
  {
   "cell_type": "code",
   "execution_count": 82,
   "id": "2ff4e0a5-de52-41ca-91c4-b56b6e00beb2",
   "metadata": {},
   "outputs": [
    {
     "data": {
      "text/plain": [
       "True"
      ]
     },
     "execution_count": 82,
     "metadata": {},
     "output_type": "execute_result"
    }
   ],
   "source": [
    "x"
   ]
  },
  {
   "cell_type": "code",
   "execution_count": 86,
   "id": "1f1cab59-c5b7-4791-b0b3-4ec61b28f718",
   "metadata": {},
   "outputs": [
    {
     "name": "stdin",
     "output_type": "stream",
     "text": [
      "primo numero:  1\n",
      "secondo numero:  1\n"
     ]
    }
   ],
   "source": [
    "a = int(input(\"primo numero: \"))\n",
    "b = int(input(\"secondo numero: \"))"
   ]
  },
  {
   "cell_type": "code",
   "execution_count": 87,
   "id": "f753187e-04c4-42de-a100-31f9b70bb821",
   "metadata": {},
   "outputs": [
    {
     "name": "stdout",
     "output_type": "stream",
     "text": [
      "numeri uguali\n"
     ]
    }
   ],
   "source": [
    "if a > b:\n",
    "    print(f\"il numero maggiore è {a}\")\n",
    "elif b > a:\n",
    "    print(f\"il numero maggiore è {b}\")\n",
    "else:\n",
    "    print(\"numeri uguali\")"
   ]
  },
  {
   "cell_type": "code",
   "execution_count": 90,
   "id": "3b9e9bc6-a574-4d70-b84e-d84dea2fda72",
   "metadata": {},
   "outputs": [],
   "source": [
    "stringa = \"0123456789\"\n",
    "stringa2 = \"123456789\""
   ]
  },
  {
   "cell_type": "code",
   "execution_count": 92,
   "id": "dcc8ff52-c973-4d81-8044-ef6893169864",
   "metadata": {},
   "outputs": [
    {
     "data": {
      "text/plain": [
       "'3'"
      ]
     },
     "execution_count": 92,
     "metadata": {},
     "output_type": "execute_result"
    }
   ],
   "source": [
    "stringa[3]"
   ]
  },
  {
   "cell_type": "code",
   "execution_count": 93,
   "id": "f50e908d-e32e-4f93-8090-21d3b5db4489",
   "metadata": {},
   "outputs": [
    {
     "data": {
      "text/plain": [
       "'4'"
      ]
     },
     "execution_count": 93,
     "metadata": {},
     "output_type": "execute_result"
    }
   ],
   "source": [
    "stringa2[3]"
   ]
  },
  {
   "cell_type": "code",
   "execution_count": 94,
   "id": "d7bd3e8f-1ce2-42b4-ba13-2c1c7929518e",
   "metadata": {},
   "outputs": [
    {
     "data": {
      "text/plain": [
       "'9'"
      ]
     },
     "execution_count": 94,
     "metadata": {},
     "output_type": "execute_result"
    }
   ],
   "source": [
    "stringa[-1]"
   ]
  },
  {
   "cell_type": "code",
   "execution_count": 95,
   "id": "b7695c05-4820-4bf4-88a7-12f2cd23f2f0",
   "metadata": {},
   "outputs": [
    {
     "data": {
      "text/plain": [
       "'9'"
      ]
     },
     "execution_count": 95,
     "metadata": {},
     "output_type": "execute_result"
    }
   ],
   "source": [
    "stringa2[-1]"
   ]
  },
  {
   "cell_type": "code",
   "execution_count": 96,
   "id": "a2438bfe-f42e-457c-be65-0959486622de",
   "metadata": {},
   "outputs": [
    {
     "data": {
      "text/plain": [
       "'23456'"
      ]
     },
     "execution_count": 96,
     "metadata": {},
     "output_type": "execute_result"
    }
   ],
   "source": [
    "stringa[2:7]"
   ]
  },
  {
   "cell_type": "markdown",
   "id": "c208644a-3273-4f7a-8bb3-333868fbdea5",
   "metadata": {},
   "source": [
    "**SLICING**"
   ]
  },
  {
   "cell_type": "code",
   "execution_count": 97,
   "id": "09d44dbc-e527-474c-9ae4-6c86f8567008",
   "metadata": {},
   "outputs": [
    {
     "data": {
      "text/plain": [
       "'13579'"
      ]
     },
     "execution_count": 97,
     "metadata": {},
     "output_type": "execute_result"
    }
   ],
   "source": [
    "stringa[1::2]"
   ]
  },
  {
   "cell_type": "code",
   "execution_count": 100,
   "id": "11d51fe4-9053-4fcd-91a7-8a2aa3453a96",
   "metadata": {},
   "outputs": [
    {
     "data": {
      "text/plain": [
       "'1357'"
      ]
     },
     "execution_count": 100,
     "metadata": {},
     "output_type": "execute_result"
    }
   ],
   "source": [
    "stringa[1:-1:2]"
   ]
  },
  {
   "cell_type": "code",
   "execution_count": 108,
   "id": "b72b356b-f5b5-409e-aafa-b20f3da1b5eb",
   "metadata": {},
   "outputs": [
    {
     "data": {
      "text/plain": [
       "'9876543210'"
      ]
     },
     "execution_count": 108,
     "metadata": {},
     "output_type": "execute_result"
    }
   ],
   "source": [
    "stringa[::-1]"
   ]
  },
  {
   "cell_type": "code",
   "execution_count": 110,
   "id": "87bbdee5-9792-4b14-8094-19eda810a04d",
   "metadata": {},
   "outputs": [],
   "source": [
    "a = int(stringa[::-1])"
   ]
  },
  {
   "cell_type": "code",
   "execution_count": 111,
   "id": "65a60a0b-c213-408c-bcc2-c6ff438452ac",
   "metadata": {},
   "outputs": [
    {
     "data": {
      "text/plain": [
       "9876543211"
      ]
     },
     "execution_count": 111,
     "metadata": {},
     "output_type": "execute_result"
    }
   ],
   "source": [
    "a + 1"
   ]
  },
  {
   "cell_type": "code",
   "execution_count": 121,
   "id": "87c1e510-78a0-4dbb-9049-4bbac3461a96",
   "metadata": {},
   "outputs": [
    {
     "name": "stdin",
     "output_type": "stream",
     "text": [
      "inserisci un carattere:  safd\n",
      "inserisci un carattere:  avsa\n",
      "inserisci un carattere:  vc\n",
      "inserisci un carattere:  VC\n",
      "inserisci un carattere:   FSD\n",
      "inserisci un carattere:  DC\n",
      "inserisci un carattere:    \n",
      "inserisci un carattere:   \n"
     ]
    },
    {
     "name": "stdout",
     "output_type": "stream",
     "text": [
      "non è una vocale\n"
     ]
    }
   ],
   "source": [
    "carattere = input(\"inserisci un carattere: \").lower()\n",
    "vocali = \"aeiou\"\n",
    "\n",
    "while len(carattere) > 1:\n",
    "    carattere = input(\"inserisci un carattere: \").lower()\n",
    "\n",
    "if carattere in vocali:\n",
    "    print(\"è una vocale\")\n",
    "else:\n",
    "    print(\"non è una vocale\")"
   ]
  },
  {
   "cell_type": "code",
   "execution_count": 125,
   "id": "b14136e1-bbbe-439f-a37c-792b5e83e7a5",
   "metadata": {},
   "outputs": [
    {
     "name": "stdin",
     "output_type": "stream",
     "text": [
      "primo numero:  1\n",
      "secondo numero:  3\n",
      "terzo numero:  2\n"
     ]
    },
    {
     "name": "stdout",
     "output_type": "stream",
     "text": [
      "3\n"
     ]
    }
   ],
   "source": [
    "num1 = int(input(\"primo numero: \"))\n",
    "num2 = int(input(\"secondo numero: \"))\n",
    "num3 = int(input(\"terzo numero: \"))\n",
    "\n",
    "if num1 > num2 and num1 > num3:\n",
    "    print(num1)\n",
    "elif num2 > num1 and num2 > num3:\n",
    "    print(num2)\n",
    "else:\n",
    "    print(num3)"
   ]
  }
 ],
 "metadata": {
  "kernelspec": {
   "display_name": "Python 3 (ipykernel)",
   "language": "python",
   "name": "python3"
  },
  "language_info": {
   "codemirror_mode": {
    "name": "ipython",
    "version": 3
   },
   "file_extension": ".py",
   "mimetype": "text/x-python",
   "name": "python",
   "nbconvert_exporter": "python",
   "pygments_lexer": "ipython3",
   "version": "3.11.7"
  }
 },
 "nbformat": 4,
 "nbformat_minor": 5
}
